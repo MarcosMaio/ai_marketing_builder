{
 "cells": [
  {
   "cell_type": "markdown",
   "metadata": {},
   "source": [
    "#### **Autoreload and reset environment**\n"
   ]
  },
  {
   "cell_type": "code",
   "execution_count": 9,
   "metadata": {},
   "outputs": [],
   "source": [
    "%%capture\n",
    "%load_ext autoreload\n",
    "%autoreload 2\n",
    "%reset -f"
   ]
  },
  {
   "cell_type": "markdown",
   "metadata": {},
   "source": [
    "#### **Import required libraries**\n"
   ]
  },
  {
   "cell_type": "code",
   "execution_count": 10,
   "metadata": {},
   "outputs": [],
   "source": [
    "from dotenv import load_dotenv\n",
    "from IPython.display import Markdown\n",
    "import json\n",
    "import logging"
   ]
  },
  {
   "cell_type": "markdown",
   "metadata": {},
   "source": [
    "#### **Import utilities and configurations**\n"
   ]
  },
  {
   "cell_type": "code",
   "execution_count": 11,
   "metadata": {},
   "outputs": [],
   "source": [
    "from agents import Agents\n",
    "from helpers import (\n",
    "    clean_agent_output,\n",
    "    get_specific_file_data,\n",
    "    save_strategy_briefing\n",
    ")"
   ]
  },
  {
   "cell_type": "markdown",
   "metadata": {},
   "source": [
    "#### **Inicial Setup**\n"
   ]
  },
  {
   "cell_type": "code",
   "execution_count": 12,
   "metadata": {},
   "outputs": [],
   "source": [
    "logger = logging.getLogger(\"marketing_ai_beta_test\")\n",
    "agents = Agents()"
   ]
  },
  {
   "cell_type": "code",
   "execution_count": 13,
   "metadata": {},
   "outputs": [],
   "source": [
    "company_data = {\n",
    "    \"quemSomos\": \"A TechNova é uma empresa focada em soluções de data analytics, unindo inovação e tecnologia para entregar resultados eficientes.\",\n",
    "    \"historia\": \"Fundada em 2010, a TechNova nasceu com a missão de inovar o mercado de gestão de dados.\",\n",
    "    \"missao\": \"Simplificar o uso de dados para empresas de médio porte.\",\n",
    "    \"visao\": \"Ser referência global em soluções de data analytics.\",\n",
    "    \"produtos\": [\n",
    "        \"Plataforma de BI\",\n",
    "        \"Serviço de consultoria em Big Data\",\n",
    "        \"Ferramentas de Data Visualization\",\n",
    "    ],\n",
    "    \"publicoAlvo\": \"Pequenas e médias empresas de tecnologia e varejo\",\n",
    "    \"persona\": \"Profissionais de TI e executivos que buscam agilizar tomadas de decisão baseadas em dados.\",\n",
    "    \"estiloComunicacao\": \"Formal, porém acessível e amigável.\",\n",
    "    \"valores\": \"Inovação, Transparência, Sustentabilidade e Foco no Cliente\",\n",
    "}\n",
    "\n",
    "provided_theme = {\n",
    "    \"theme\" : \"Inovação\",\n",
    "    \"description\" : \"A TechNova é uma empresa que nasceu com a missão de inovar o mercado de gestão de dados. A inovação é um dos pilares da empresa, que busca constantemente soluções criativas para seus clientes.\",\n",
    "}\n"
   ]
  },
  {
   "cell_type": "markdown",
   "metadata": {},
   "source": [
    "#### **Strategy/Briefing Agent (called individually)**\n"
   ]
  },
  {
   "cell_type": "code",
   "execution_count": null,
   "metadata": {},
   "outputs": [],
   "source": [
    "strategy_briefing_agent_result = clean_agent_output(agents.StrategyBriefingAgent(company_data))"
   ]
  },
  {
   "cell_type": "markdown",
   "metadata": {},
   "source": [
    "#### **Save Strategy/Briefing Agent JSON file**"
   ]
  },
  {
   "cell_type": "code",
   "execution_count": 15,
   "metadata": {},
   "outputs": [],
   "source": [
    "save_strategy_briefing(strategy_briefing_agent_result)"
   ]
  },
  {
   "cell_type": "markdown",
   "metadata": {},
   "source": [
    "#### **Agents Chain - Post Creation Flow**\n"
   ]
  },
  {
   "cell_type": "code",
   "execution_count": null,
   "metadata": {},
   "outputs": [],
   "source": [
    "\n",
    "company_strategy_briefing = get_specific_file_data(\"company_data\", \"company_strategy_briefing.json\")\n",
    "general_rules = get_specific_file_data(\"prompts\", \"general_rules.md\")\n",
    "\n",
    "agents_chain_result = clean_agent_output(agents.Agents_Chain(company_strategy_briefing, general_rules))"
   ]
  }
 ],
 "metadata": {
  "kernelspec": {
   "display_name": "Python 3",
   "language": "python",
   "name": "python3"
  },
  "language_info": {
   "codemirror_mode": {
    "name": "ipython",
    "version": 3
   },
   "file_extension": ".py",
   "mimetype": "text/x-python",
   "name": "python",
   "nbconvert_exporter": "python",
   "pygments_lexer": "ipython3",
   "version": "3.12.5"
  }
 },
 "nbformat": 4,
 "nbformat_minor": 2
}
